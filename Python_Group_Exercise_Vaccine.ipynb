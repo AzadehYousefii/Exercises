{
  "nbformat": 4,
  "nbformat_minor": 0,
  "metadata": {
    "colab": {
      "provenance": [],
      "include_colab_link": true
    },
    "kernelspec": {
      "name": "python3",
      "display_name": "Python 3"
    },
    "language_info": {
      "name": "python"
    }
  },
  "cells": [
    {
      "cell_type": "markdown",
      "metadata": {
        "id": "view-in-github",
        "colab_type": "text"
      },
      "source": [
        "<a href=\"https://colab.research.google.com/github/PersianBIandDataMiningGroup/Exercises/blob/main/Python_Group_Exercise_Vaccine.ipynb\" target=\"_parent\"><img src=\"https://colab.research.google.com/assets/colab-badge.svg\" alt=\"Open In Colab\"/></a>"
      ]
    },
    {
      "cell_type": "markdown",
      "source": [
        "A program that takes user input for gender, age, and continent and outputs the suitable vaccine recommendation:\n",
        "\n",
        "- For males in Europe:\n",
        "  - If age is 20 or below, recommend Moderna.\n",
        "  - If age is between 20 and 45, recommend Pfizer.\n",
        "  - If age is 45 or above, recommend AstraZeneca.\n",
        "\n",
        "- For females in Europe:\n",
        "  - If age is 20 or below, recommend AstraZeneca.\n",
        "  - If age is between 20 and 45, recommend Covaxin.\n",
        "  - If age is 45 or above, recommend Pfizer.\n",
        "\n",
        "- For males in Asia:\n",
        "  - If age is 20 or below, recommend AstraZeneca.\n",
        "  - If age is between 20 and 45, recommend Barekat.\n",
        "  - If age is 45 or above, recommend Covaxin.\n",
        "\n",
        "- For females in Asia:\n",
        "  - If age is 20 or below, recommend Barekat.\n",
        "  - If age is between 20 and 45, recommend Moderna.\n",
        "  - If age is 45 or above, recommend Pfizer.\n",
        "\n",
        "- In Africa:\n",
        "  - For males, recommend AstraZeneca.\n",
        "  - For females, recommend Pfizer.\n",
        "\n",
        "- For Oceana:\n",
        "  - If age is 20 or below, recommend Barekat.\n",
        "  - If age is between 20 and 45, recommend Covaxin.\n",
        "  - If age is 45 or above, recommend AstraZeneca.\n",
        "\n",
        "\"Caution: It is just an illustrative example and should not be regarded as a credible source of information.\""
      ],
      "metadata": {
        "id": "ZK0W3jHnAsOO"
      }
    },
    {
      "cell_type": "code",
      "execution_count": null,
      "metadata": {
        "id": "QuBMdmlyAMPe"
      },
      "outputs": [],
      "source": [
        "def choose_vaccine (gender, age, continent):\n",
        "  if gender == \"male\" and continent == \"Europe\":\n",
        "    if age <= 20:\n",
        "      return \"Moderna\"\n",
        "    elif 20 < age <= 45:\n",
        "      return \"Pfizer\"\n",
        "    else:\n",
        "      return \"AstraZeneca\"\n",
        "  elif gender == \"female\" and continent == \"Europe\":\n",
        "    if age <= 20:\n",
        "      return \"AstraZeneca\"\n",
        "    elif 20 < age <= 45:\n",
        "      return \"Covaxin\"\n",
        "    else:\n",
        "      return \"Pfizer\"\n",
        "  elif gender == \"male\" and continent == \"Asia\":\n",
        "    if age <= 20:\n",
        "      return \"AstraZeneca\"\n",
        "    elif 20 < age <= 45:\n",
        "      return \"Barekat\"\n",
        "    else:\n",
        "      return \"Covaxin\"\n",
        "  elif gender == \"female\" and continent == \"Asia\":\n",
        "    if age <= 20:\n",
        "      return \"Barekat\"\n",
        "    elif 20 < age <= 45:\n",
        "      return \"Moderna\"\n",
        "    else:\n",
        "      return \"Pfizer\"\n",
        "  elif continent == \"Africa\":\n",
        "    if gender == \"male\":\n",
        "      return \"AstraZeneca\"\n",
        "    else:\n",
        "      return \"Pfizer\"\n",
        "  elif continent == \"Oceana\":\n",
        "    if age <= 20:\n",
        "      return \"Barekat\"\n",
        "    elif 20 < age <= 45:\n",
        "      return \"Covaxin\"\n",
        "    elif age >= 45:\n",
        "      return \"AstraZeneca\"\n",
        "  else:\n",
        "    return \"Invalid input\""
      ]
    },
    {
      "cell_type": "markdown",
      "source": [
        "User input"
      ],
      "metadata": {
        "id": "ZvUSvsklGECI"
      }
    },
    {
      "cell_type": "code",
      "source": [
        "gender = input (\"Please Enter your gender (male/female): \")"
      ],
      "metadata": {
        "colab": {
          "base_uri": "https://localhost:8080/"
        },
        "id": "pSRMjrFrGCgx",
        "outputId": "cb10507f-253d-4dbd-df79-1baf8bff3ada"
      },
      "execution_count": null,
      "outputs": [
        {
          "name": "stdout",
          "output_type": "stream",
          "text": [
            "Please Enter your gender (male/female): male\n"
          ]
        }
      ]
    },
    {
      "cell_type": "code",
      "source": [
        "age = int (input (\"Please Enter your age \"))"
      ],
      "metadata": {
        "colab": {
          "base_uri": "https://localhost:8080/"
        },
        "id": "60DIs5tdGfop",
        "outputId": "0becf4bb-736a-4f81-acb4-af1b77bb85de"
      },
      "execution_count": null,
      "outputs": [
        {
          "name": "stdout",
          "output_type": "stream",
          "text": [
            "Please Enter your age 46\n"
          ]
        }
      ]
    },
    {
      "cell_type": "code",
      "source": [
        "continent = input (\"Please Enter your continent: \")"
      ],
      "metadata": {
        "colab": {
          "base_uri": "https://localhost:8080/"
        },
        "id": "BLRjPJwgGs_o",
        "outputId": "8a7f6b38-1c16-41bf-9e81-56beed59122b"
      },
      "execution_count": null,
      "outputs": [
        {
          "name": "stdout",
          "output_type": "stream",
          "text": [
            "Please Enter your continent: Africa\n"
          ]
        }
      ]
    },
    {
      "cell_type": "markdown",
      "source": [
        "Get suitable vaccine"
      ],
      "metadata": {
        "id": "fvdoQq00HMr4"
      }
    },
    {
      "cell_type": "code",
      "source": [
        "vaccine_choice = choose_vaccine (gender, age, continent)\n",
        "print (f\"The suitable vaccine for a {gender} aged {age} in {continent} is {vaccine_choice}.\")"
      ],
      "metadata": {
        "colab": {
          "base_uri": "https://localhost:8080/"
        },
        "id": "3GAtLWT4HZTf",
        "outputId": "b65d71ef-dcbe-4cf4-d060-44e4a182df2d"
      },
      "execution_count": null,
      "outputs": [
        {
          "output_type": "stream",
          "name": "stdout",
          "text": [
            "The suitable vaccine for a male aged 46 in Africa is AstraZeneca.\n"
          ]
        }
      ]
    }
  ]
}